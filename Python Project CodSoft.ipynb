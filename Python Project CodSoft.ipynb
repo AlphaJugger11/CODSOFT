{
 "cells": [
  {
   "cell_type": "markdown",
   "id": "61a12c03",
   "metadata": {},
   "source": [
    "## Calculator\n"
   ]
  },
  {
   "cell_type": "code",
   "execution_count": 51,
   "id": "79c0b94f",
   "metadata": {
    "scrolled": true
   },
   "outputs": [
    {
     "name": "stdout",
     "output_type": "stream",
     "text": [
      "Press Q/q to exit else press any key to continue:  q\n",
      "Thank you\n"
     ]
    }
   ],
   "source": [
    "\n",
    "def calculator():\n",
    "    num1 = float(input(\"Please enter first number:  \"))\n",
    "    num2 = float(input(\"Please enter second number:  \"))\n",
    "    operation = input(\"Enter operation you want to perform (+,-,*,/,%): \")\n",
    "\n",
    "    if operation == \"+\":\n",
    "        print(\"Result:  \" +str(num1+num2))\n",
    "    elif operation == '-':\n",
    "        print(\"Result:  \" +str(num1-num2))\n",
    "    elif operation == '*':\n",
    "        print(\"Result:  \" +str(num1*num2))\n",
    "    elif operation == '/':\n",
    "        try:\n",
    "            print(\"Result:  \" +str(num1/num2))\n",
    "        except ZeroDivisionError:\n",
    "            print('Division by zero not possible')\n",
    "    elif operation == '%':\n",
    "        print(\"Result  \" +str(num1%num2))\n",
    "        \n",
    "        \n",
    "while(True):\n",
    "    choice = input('Press Q/q to exit else press any key to continue:  ')\n",
    "    if choice == 'q' or choice == 'Q':\n",
    "        print(\"Thank you\")\n",
    "        break\n",
    "    else:\n",
    "        calculator()\n"
   ]
  },
  {
   "cell_type": "markdown",
   "id": "4441d454",
   "metadata": {},
   "source": [
    "## Password generator \n"
   ]
  },
  {
   "cell_type": "code",
   "execution_count": 29,
   "id": "36cd9ca2",
   "metadata": {},
   "outputs": [
    {
     "name": "stdout",
     "output_type": "stream",
     "text": [
      "Press Q/q to exit else press any key to continue  qw\n",
      "Enter length of password 12\n",
      "Generated Password \n",
      "\\(_A]IAbQQp!\n",
      "Press Q/q to exit else press any key to continue  q\n",
      "Thank you\n"
     ]
    }
   ],
   "source": [
    "import string\n",
    "import numpy as np\n",
    "\n",
    "def passwordgen():\n",
    "    length = int(input(\"Enter length of password: \"))\n",
    "    punct = string.punctuation\n",
    "    arr = [i for i in string.punctuation]+[chr(i) for i in range(97,123)]+[chr(i) for i in range(65,91)]\n",
    "    # print(arr)\n",
    "    password = ''\n",
    "    for i in range(length):\n",
    "        num = np.random.randint(0,len(arr))\n",
    "        password+= arr[num]\n",
    "    print(\"Generated Password: \\n\"+password)\n",
    "    \n",
    "while(True):\n",
    "    choice = input('Press Q/q to exit else press any key to continue:  ')\n",
    "    if choice == 'q' or choice == 'Q':\n",
    "        print(\"Thank you\")\n",
    "        break\n",
    "    else:\n",
    "        passwordgen()\n"
   ]
  },
  {
   "cell_type": "markdown",
   "id": "65dce307",
   "metadata": {},
   "source": [
    "## Rock, Paper, Scissors\n"
   ]
  },
  {
   "cell_type": "code",
   "execution_count": 50,
   "id": "2438ac4e",
   "metadata": {},
   "outputs": [
    {
     "name": "stdout",
     "output_type": "stream",
     "text": [
      "Press Q/q to exit else press any key to continue:  afda\n",
      "Enter Rock, Paper or Scissors: rock\n",
      "User's choice  rock \n",
      "Computer choice  rock\n",
      "Draw\n",
      "Press Q/q to exit else press any key to continue:  f\n",
      "Enter Rock, Paper or Scissors: scissors\n",
      "User's choice  scissors \n",
      "Computer choice  scissors\n",
      "Draw\n",
      "Press Q/q to exit else press any key to continue:  paper\n",
      "Enter Rock, Paper or Scissors: paper\n",
      "User's choice  paper \n",
      "Computer choice  rock\n",
      "Winner User\n",
      "Press Q/q to exit else press any key to continue:  q\n",
      "Thank you\n"
     ]
    }
   ],
   "source": [
    "\n",
    "def game():\n",
    "    user = input(\"Enter Rock, Paper or Scissors: \")\n",
    "    user.lower()\n",
    "    choices = ['rock','paper','scissors']\n",
    "\n",
    "    comp_choice = choices[np.random.randint(0,3)]\n",
    "    # print(comp_choice)\n",
    "\n",
    "    if (comp_choice == 'rock' and user == 'paper'):\n",
    "        print(\"User's choice \", user, \"\\nComputer choice \", comp_choice)\n",
    "        print(\"Winner User\")\n",
    "    elif (comp_choice == 'paper' and user =='rock'):\n",
    "        print(\"User's choice \", user, \"\\nComputer choice \", comp_choice)\n",
    "        print('Winner Computer')\n",
    "    elif (comp_choice == 'paper' and user =='scissors'):\n",
    "        print(\"User's choice \", user, \"\\nComputer choice \", comp_choice)\n",
    "        print(\"Winner User\")\n",
    "    elif (comp_choice == 'rock' and user =='scissor'):\n",
    "        print(\"User's choice \", user, \"\\nComputer choice \", comp_choice)\n",
    "        print('Winnter Computer')\n",
    "    elif (comp_choice == 'scissors' and user =='rock'):\n",
    "        print(\"User's choice \", user, \"\\nComputer choice \", comp_choice)\n",
    "        print('Winner User')\n",
    "    elif (comp_choice == 'scissors' and user =='paper'):\n",
    "        print(\"User's choice \", user, \"\\nComputer choice \", comp_choice)\n",
    "        print(\"Winner Computer\")\n",
    "    elif (comp_choice == user):\n",
    "        print(\"User's choice \", user, \"\\nComputer choice \", comp_choice)\n",
    "        print(\"Draw\")\n",
    "while(True):\n",
    "    choice = input('Press Q/q to exit else press any key to continue:  ')\n",
    "    if choice == 'q' or choice == 'Q':\n",
    "        print(\"Thank you\")\n",
    "        break\n",
    "    else:\n",
    "        game()\n"
   ]
  },
  {
   "cell_type": "code",
   "execution_count": null,
   "id": "5477caeb",
   "metadata": {},
   "outputs": [],
   "source": []
  }
 ],
 "metadata": {
  "kernelspec": {
   "display_name": "Python 3 (ipykernel)",
   "language": "python",
   "name": "python3"
  },
  "language_info": {
   "codemirror_mode": {
    "name": "ipython",
    "version": 3
   },
   "file_extension": ".py",
   "mimetype": "text/x-python",
   "name": "python",
   "nbconvert_exporter": "python",
   "pygments_lexer": "ipython3",
   "version": "3.11.4"
  }
 },
 "nbformat": 4,
 "nbformat_minor": 5
}
